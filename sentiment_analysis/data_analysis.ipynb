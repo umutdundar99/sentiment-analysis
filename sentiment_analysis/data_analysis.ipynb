{
 "cells": [
  {
   "cell_type": "code",
   "execution_count": 2,
   "metadata": {},
   "outputs": [],
   "source": [
    "import os\n",
    "from typing import Dict, List\n",
    "\n",
    "import matplotlib.pyplot as plt\n",
    "import pandas as pd\n",
    "from scipy.stats import chi2_contingency"
   ]
  },
  {
   "cell_type": "code",
   "execution_count": null,
   "metadata": {},
   "outputs": [],
   "source": [
    "# read data\n",
    "data_train = pd.read_csv(os.path.join(\"data\", \"raw\", \"train.csv\"))\n",
    "data_test = pd.read_csv(os.path.join(\"data\", \"raw\", \"test.csv\"))\n",
    "data = pd.concat([data_train, data_test], sort=False)\n",
    "display(data.head())\n",
    "display(data.info())"
   ]
  },
  {
   "cell_type": "code",
   "execution_count": null,
   "metadata": {},
   "outputs": [],
   "source": [
    "# non categorical columns and not necessary columns for analysis are dropped\n",
    "columns = data.columns\n",
    "categorical_columns = columns.drop(\n",
    "    [\n",
    "        \"issue_category_sub_category\",\n",
    "        \"agent_experience_level_desc\",\n",
    "        \"conversation\",\n",
    "        \"issue_sub_category\",\n",
    "    ]\n",
    ")\n",
    "print(f\"Categorcal Colmuns are: {categorical_columns.values}\")"
   ]
  },
  {
   "cell_type": "code",
   "execution_count": null,
   "metadata": {},
   "outputs": [],
   "source": [
    "# visualization of categorical columns\n",
    "for col in categorical_columns:\n",
    "    data[col].value_counts().plot(kind=\"bar\")\n",
    "    plt.title(f\"Count plot for {col}\")\n",
    "    plt.xlabel(col)\n",
    "    plt.ylabel(\"Count\")\n",
    "    plt.show()"
   ]
  },
  {
   "cell_type": "code",
   "execution_count": 9,
   "metadata": {},
   "outputs": [],
   "source": [
    "def perform_chi_square_tests(\n",
    "    df: pd.DataFrame, target_col: str, categorical_cols: List[str]\n",
    ") -> pd.DataFrame:\n",
    "    \"\"\"\n",
    "    Performs Chi-Square test of independence between each categorical column and the target column.\n",
    "\n",
    "    Args:\n",
    "        df (pd.DataFrame): Input DataFrame containing categorical columns.\n",
    "        target_col (str): Name of the target categorical column.\n",
    "        categorical_cols (List[str]): List of categorical columns to test against the target.\n",
    "\n",
    "    Returns:\n",
    "        pd.DataFrame: DataFrame containing p-values and chi-square statistics for each feature.\n",
    "    \"\"\"\n",
    "    results: Dict[str, Dict[str, float]] = {}\n",
    "\n",
    "    for col in categorical_cols:\n",
    "        if target_col == col:\n",
    "            continue\n",
    "        contingency_table = pd.crosstab(df[col], df[target_col])\n",
    "        chi2, p, dof, _ = chi2_contingency(contingency_table)\n",
    "        results[col] = {\n",
    "            \"p_value\": p,\n",
    "            \"is_rejected\": p < 0.05,\n",
    "        }\n",
    "\n",
    "    return pd.DataFrame(results).T.sort_values(by=\"p_value\")"
   ]
  },
  {
   "cell_type": "code",
   "execution_count": null,
   "metadata": {},
   "outputs": [],
   "source": [
    "chi_results = perform_chi_square_tests(\n",
    "    data, target_col=\"customer_sentiment\", categorical_cols=categorical_columns\n",
    ")\n",
    "display(chi_results)"
   ]
  },
  {
   "cell_type": "code",
   "execution_count": null,
   "metadata": {},
   "outputs": [],
   "source": [
    "# comparing customer_sentiment with other columns\n",
    "for col in categorical_columns:\n",
    "    if col != \"customer_sentiment\":\n",
    "        data.groupby([col, \"customer_sentiment\"]).size().unstack().plot(\n",
    "            kind=\"bar\", stacked=True\n",
    "        )\n",
    "        plt.title(f\"Count plot for {col} and customer_sentiment\")\n",
    "        plt.xlabel(col)\n",
    "        plt.ylabel(\"Count\")\n",
    "        plt.show()"
   ]
  },
  {
   "cell_type": "markdown",
   "metadata": {},
   "source": [
    "# Comments\n",
    "Here, we see that agent_experience_level, issue_category and issue_sub_category are significant columns for customer_sentiment \n",
    "- For instance, Accessing Warrant Details, Book Pricing Discrepancy, Cash On Delivery Refunds, etc. has only neutral sentiment. Likewise, Pickup and Shipping,Product information and tags categories have only positive sentiment. So, we can say that these columns are significant for customer_sentiment (p<0.5)\n",
    "- We can infer that positive comments are associated with the \"order\" issue area\n",
    "- We also can conclude from the distribution of customer_sentiment that the data is imbalanced. We have more neutral and negative sentiments than positive sentiments. So, we must be careful while training the model and not to overfit the model to the majority class."
   ]
  }
 ],
 "metadata": {
  "kernelspec": {
   "display_name": ".venv",
   "language": "python",
   "name": "python3"
  },
  "language_info": {
   "codemirror_mode": {
    "name": "ipython",
    "version": 3
   },
   "file_extension": ".py",
   "mimetype": "text/x-python",
   "name": "python",
   "nbconvert_exporter": "python",
   "pygments_lexer": "ipython3",
   "version": "3.10.16"
  }
 },
 "nbformat": 4,
 "nbformat_minor": 2
}
